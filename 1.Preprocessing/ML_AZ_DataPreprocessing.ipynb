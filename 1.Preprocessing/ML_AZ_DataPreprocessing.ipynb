{
  "nbformat": 4,
  "nbformat_minor": 0,
  "metadata": {
    "colab": {
      "name": "ML-AZ_DataPreprocessing.ipynb",
      "provenance": []
    },
    "kernelspec": {
      "name": "python3",
      "display_name": "Python 3"
    }
  },
  "cells": [
    {
      "cell_type": "markdown",
      "metadata": {
        "id": "0UFN4JT5cEbS"
      },
      "source": [
        "<h2> Importing the librairires</h2>"
      ]
    },
    {
      "cell_type": "code",
      "metadata": {
        "id": "qs86V2j-cDfd"
      },
      "source": [
        "import numpy as np\r\n",
        "import pandas as pd\r\n",
        "import matplotlib.pyplot as plt"
      ],
      "execution_count": 33,
      "outputs": []
    },
    {
      "cell_type": "markdown",
      "metadata": {
        "id": "vktoTsI_ccej"
      },
      "source": [
        "<h2>Importing the dataset</h2>\r\n",
        "<ul>\r\n",
        "  <li>X: features - independant variables</li>\r\n",
        "  <li>y: dependant variable - what we want to predict</li>\r\n",
        "</ul>"
      ]
    },
    {
      "cell_type": "code",
      "metadata": {
        "id": "dKZMxIfhcf-W"
      },
      "source": [
        "dataset = pd.read_csv('Data.csv')\r\n",
        "X = dataset.iloc[:, :-1].values\r\n",
        "y = dataset.iloc[:, -1].values"
      ],
      "execution_count": 34,
      "outputs": []
    },
    {
      "cell_type": "code",
      "metadata": {
        "colab": {
          "base_uri": "https://localhost:8080/"
        },
        "id": "PBOfYzlUdj62",
        "outputId": "ba9e45aa-7ff4-41a9-d6ce-9d5ba7705bc5"
      },
      "source": [
        "print(X)"
      ],
      "execution_count": 35,
      "outputs": [
        {
          "output_type": "stream",
          "text": [
            "[['France' 44.0 72000.0]\n",
            " ['Spain' 27.0 48000.0]\n",
            " ['Germany' 30.0 54000.0]\n",
            " ['Spain' 38.0 61000.0]\n",
            " ['Germany' 40.0 nan]\n",
            " ['France' 35.0 58000.0]\n",
            " ['Spain' nan 52000.0]\n",
            " ['France' 48.0 79000.0]\n",
            " ['Germany' 50.0 83000.0]\n",
            " ['France' 37.0 67000.0]]\n"
          ],
          "name": "stdout"
        }
      ]
    },
    {
      "cell_type": "code",
      "metadata": {
        "colab": {
          "base_uri": "https://localhost:8080/"
        },
        "id": "To6fn3wXdleP",
        "outputId": "4d26eb1b-1786-4ec8-88a8-6b71fdd4a0ae"
      },
      "source": [
        "print(y)"
      ],
      "execution_count": 36,
      "outputs": [
        {
          "output_type": "stream",
          "text": [
            "['No' 'Yes' 'No' 'No' 'Yes' 'Yes' 'No' 'Yes' 'No' 'Yes']\n"
          ],
          "name": "stdout"
        }
      ]
    },
    {
      "cell_type": "markdown",
      "metadata": {
        "id": "zATECopwdqkz"
      },
      "source": [
        "<h2>Taking care of missing data</h2>\r\n",
        "\r\n",
        "<ul>\r\n",
        "  <li>Delete the line if the dataset is big enough (1% of missing data)</li>\r\n",
        "  <li>\r\n",
        "    Replace the missing value by:\r\n",
        "    <ul>\r\n",
        "      <li>The average of the column</li>\r\n",
        "      <li>The most frequent data of the column</li>\r\n",
        "      <li>etc</li>\r\n",
        "    </ul>\r\n",
        "  </li>\r\n",
        "</ul>\r\n",
        "\r\n",
        "<p>We must change only numerical data, that's why we write X[:, 1:3], 3 is excluded.</p>"
      ]
    },
    {
      "cell_type": "code",
      "metadata": {
        "colab": {
          "base_uri": "https://localhost:8080/"
        },
        "id": "y0TQ6HvNdmMR",
        "outputId": "bed77eb7-3f1a-4ec7-ee81-708659d4d7a4"
      },
      "source": [
        "from sklearn.impute import SimpleImputer\r\n",
        "imputer = SimpleImputer(missing_values=np.nan, strategy='mean')\r\n",
        "imputer.fit(X[:, 1:3])\r\n",
        "X[:, 1:3] = imputer.transform(X[:, 1:3]) # do the replacement\r\n",
        "print(X)"
      ],
      "execution_count": 37,
      "outputs": [
        {
          "output_type": "stream",
          "text": [
            "[['France' 44.0 72000.0]\n",
            " ['Spain' 27.0 48000.0]\n",
            " ['Germany' 30.0 54000.0]\n",
            " ['Spain' 38.0 61000.0]\n",
            " ['Germany' 40.0 63777.77777777778]\n",
            " ['France' 35.0 58000.0]\n",
            " ['Spain' 38.77777777777778 52000.0]\n",
            " ['France' 48.0 79000.0]\n",
            " ['Germany' 50.0 83000.0]\n",
            " ['France' 37.0 67000.0]]\n"
          ],
          "name": "stdout"
        }
      ]
    },
    {
      "cell_type": "markdown",
      "metadata": {
        "id": "oCVhXDR2gR9x"
      },
      "source": [
        "<h2>Enconding categorical data</h2>\r\n",
        "\r\n",
        "<p>Encode non numerical data.<br>We can't assign 0 to France, 1 to Germany and 2 to Spain because the algorithm will understand that Spain>Germany>France, whereas not => binary vectors [1,0,0], [0,1,0], [0,0,1]</p>\r\n",
        "\r\n",
        "ColumnTransformer instance parameters:\r\n",
        "<ul>\r\n",
        "  <p>Transformers:\r\n",
        "  <ul>\r\n",
        "    <li>Kind of transformation: encoding</li>\r\n",
        "    <li>Kind of encodong: OneHotEncoding</li>\r\n",
        "    <li>Index of column we want to encode</li>\r\n",
        "  </ul>\r\n",
        "  <p>Remainder:</p>\r\n",
        "  <ul>\r\n",
        "    <li>Keep other columns without change anything</li>\r\n",
        "  </ul>\r\n",
        "</ul>\r\n"
      ]
    },
    {
      "cell_type": "code",
      "metadata": {
        "colab": {
          "base_uri": "https://localhost:8080/"
        },
        "id": "XOTwHXdEgcxE",
        "outputId": "f4446657-e2a7-44f5-bb88-4dbcc98ec45e"
      },
      "source": [
        "from sklearn.compose import ColumnTransformer\r\n",
        "from sklearn.preprocessing import OneHotEncoder\r\n",
        "ct = ColumnTransformer(transformers=[('encoder', OneHotEncoder(), [0])], remainder='passthrough')\r\n",
        "X = np.array(ct.fit_transform(X))\r\n",
        "print(X)"
      ],
      "execution_count": 38,
      "outputs": [
        {
          "output_type": "stream",
          "text": [
            "[[1.0 0.0 0.0 44.0 72000.0]\n",
            " [0.0 0.0 1.0 27.0 48000.0]\n",
            " [0.0 1.0 0.0 30.0 54000.0]\n",
            " [0.0 0.0 1.0 38.0 61000.0]\n",
            " [0.0 1.0 0.0 40.0 63777.77777777778]\n",
            " [1.0 0.0 0.0 35.0 58000.0]\n",
            " [0.0 0.0 1.0 38.77777777777778 52000.0]\n",
            " [1.0 0.0 0.0 48.0 79000.0]\n",
            " [0.0 1.0 0.0 50.0 83000.0]\n",
            " [1.0 0.0 0.0 37.0 67000.0]]\n"
          ],
          "name": "stdout"
        }
      ]
    },
    {
      "cell_type": "markdown",
      "metadata": {
        "id": "nJ75704FjWJ9"
      },
      "source": [
        "<p>LabelEncoder encodes categorical binary data like yes/no</p>\r\n",
        "<b>The matrix y doesn't need to be a numpy array !</b>"
      ]
    },
    {
      "cell_type": "code",
      "metadata": {
        "colab": {
          "base_uri": "https://localhost:8080/"
        },
        "id": "f6sVOeK4jGUQ",
        "outputId": "25c9a575-e327-4d38-9e0c-2cfa96093c4f"
      },
      "source": [
        "from sklearn.preprocessing import LabelEncoder\r\n",
        "le = LabelEncoder()\r\n",
        "y = le.fit_transform(y)\r\n",
        "print(y)"
      ],
      "execution_count": 39,
      "outputs": [
        {
          "output_type": "stream",
          "text": [
            "[0 1 0 0 1 1 0 1 0 1]\n"
          ],
          "name": "stdout"
        }
      ]
    },
    {
      "cell_type": "markdown",
      "metadata": {
        "id": "Rv5Q1v5Tqy6J"
      },
      "source": [
        "<h2>Splitting the dataset into the Training set and Test set</h2>\r\n",
        "\r\n",
        "<p>random_state=1 to fix the seed (get the same split</p>"
      ]
    },
    {
      "cell_type": "code",
      "metadata": {
        "colab": {
          "base_uri": "https://localhost:8080/"
        },
        "id": "OyoX7sU3q8dq",
        "outputId": "ae880ccb-f6d3-4f2b-92c5-f012bcb7bfd0"
      },
      "source": [
        "from sklearn.model_selection import train_test_split\r\n",
        "X_train, X_test, y_train, y_test = train_test_split(X, y, test_size=0.2, random_state=1)\r\n",
        "print(\"X_train: \\n\", X_train, \"\\n\\ny_train: \\n\", y_train, \"\\n\\nX_test: \\n\", X_test, \"\\n\\ny_test: \\n\", y_test)"
      ],
      "execution_count": 40,
      "outputs": [
        {
          "output_type": "stream",
          "text": [
            "X_train: \n",
            " [[0.0 0.0 1.0 38.77777777777778 52000.0]\n",
            " [0.0 1.0 0.0 40.0 63777.77777777778]\n",
            " [1.0 0.0 0.0 44.0 72000.0]\n",
            " [0.0 0.0 1.0 38.0 61000.0]\n",
            " [0.0 0.0 1.0 27.0 48000.0]\n",
            " [1.0 0.0 0.0 48.0 79000.0]\n",
            " [0.0 1.0 0.0 50.0 83000.0]\n",
            " [1.0 0.0 0.0 35.0 58000.0]] \n",
            "\n",
            "y_train: \n",
            " [0 1 0 0 1 1 0 1] \n",
            "\n",
            "X_test: \n",
            " [[0.0 1.0 0.0 30.0 54000.0]\n",
            " [1.0 0.0 0.0 37.0 67000.0]] \n",
            "\n",
            "y_test: \n",
            " [0 1]\n"
          ],
          "name": "stdout"
        }
      ]
    },
    {
      "cell_type": "markdown",
      "metadata": {
        "id": "WbmTYdkGs-eH"
      },
      "source": [
        "<h2>Feature Scaling</h2>\r\n",
        "\r\n",
        "<p>To avoid some features to be dominated by other features.</p>\r\n",
        "<p>We won't use the feature scaling of all our machine learning projects.</p>\r\n",
        "<ul>\r\n",
        "  <li>Standardisation: (x-mean(x))/(standard deviation(x))</li>\r\n",
        "  <li>Normalisation: (x-min(x))/(max(x)-min(x))</li>\r\n",
        "</ul>"
      ]
    },
    {
      "cell_type": "code",
      "metadata": {
        "colab": {
          "base_uri": "https://localhost:8080/"
        },
        "id": "CGCvTelHtBNk",
        "outputId": "4fa18c77-0d6d-43f5-e0fb-bc8bc339d6db"
      },
      "source": [
        "from sklearn.preprocessing import StandardScaler\r\n",
        "sc = StandardScaler()\r\n",
        "X_train[:, 3:] = sc.fit_transform(X_train[:, 3:])\r\n",
        "X_test[:, 3:] = sc.transform(X_test[:, 3:])\r\n",
        "print(\"X_train: \\n\",X_train, \"\\n\\nX_test: \",X_test)"
      ],
      "execution_count": 41,
      "outputs": [
        {
          "output_type": "stream",
          "text": [
            "X_train: \n",
            " [[0.0 0.0 1.0 -0.19159184384578545 -1.0781259408412425]\n",
            " [0.0 1.0 0.0 -0.014117293757057777 -0.07013167641635372]\n",
            " [1.0 0.0 0.0 0.566708506533324 0.633562432710455]\n",
            " [0.0 0.0 1.0 -0.30453019390224867 -0.30786617274297867]\n",
            " [0.0 0.0 1.0 -1.9018011447007988 -1.420463615551582]\n",
            " [1.0 0.0 0.0 1.1475343068237058 1.232653363453549]\n",
            " [0.0 1.0 0.0 1.4379472069688968 1.5749910381638885]\n",
            " [1.0 0.0 0.0 -0.7401495441200351 -0.5646194287757332]] \n",
            "\n",
            "X_test:  [[0.0 1.0 0.0 -1.4661817944830124 -0.9069571034860727]\n",
            " [1.0 0.0 0.0 -0.44973664397484414 0.2056403393225306]]\n"
          ],
          "name": "stdout"
        }
      ]
    }
  ]
}